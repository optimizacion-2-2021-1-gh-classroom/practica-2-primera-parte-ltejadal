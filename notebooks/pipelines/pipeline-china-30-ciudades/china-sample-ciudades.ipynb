{
 "cells": [
  {
   "cell_type": "code",
   "execution_count": 30,
   "metadata": {
    "tags": [
     "imports"
    ]
   },
   "outputs": [],
   "source": [
    "import ant_colony as ac\n",
    "import json\n",
    "import networkx as nx\n",
    "import numpy as np\n",
    "import pandas as pd\n",
    "\n",
    "from scipy.spatial import distance_matrix"
   ]
  },
  {
   "cell_type": "code",
   "execution_count": 31,
   "metadata": {
    "tags": [
     "pipeline-parameters"
    ]
   },
   "outputs": [],
   "source": [
    "## parametros del algoritmo\n",
    "data_path = '../practica-1-segunda-parte-ltejadal/datasets/ch71009.tsp'\n",
    "init_node_ex = 0\n",
    "hp_trials = 2\n",
    "save_hp = True\n",
    "seed = 19519159\n",
    "n_cities = 30"
   ]
  },
  {
   "cell_type": "code",
   "execution_count": 32,
   "metadata": {
    "tags": [
     "block:read_data"
    ]
   },
   "outputs": [],
   "source": [
    "with open(data_path) as f:\n",
    "    # lectura de datos\n",
    "    node_coord_start = None\n",
    "    dimension = None\n",
    "    lines = f.readlines()"
   ]
  },
  {
   "cell_type": "code",
   "execution_count": 33,
   "metadata": {
    "tags": [
     "block:data_info",
     "prev:read_data"
    ]
   },
   "outputs": [
    {
     "name": "stdout",
     "output_type": "stream",
     "text": [
      "Problema con 71009 ciudades.\n"
     ]
    }
   ],
   "source": [
    "# Información del archivo TSP\n",
    "## Para la lectura de datos seguimos lo implementado por: https://github.com/DiegoVicen/som-tsp\n",
    "i = 0\n",
    "while not dimension or not node_coord_start:\n",
    "    line = lines[i]\n",
    "    if line.startswith('DIMENSION :'):\n",
    "        dimension = int(line.split()[-1])\n",
    "    if line.startswith('NODE_COORD_SECTION'):\n",
    "        node_coord_start = i\n",
    "    i = i+1\n",
    "    \n",
    "print('Problema con {} ciudades.'.format(dimension))"
   ]
  },
  {
   "cell_type": "code",
   "execution_count": 34,
   "metadata": {
    "tags": [
     "block:clean_data",
     "prev:data_info"
    ]
   },
   "outputs": [],
   "source": [
    "## Para la lectura de datos seguimos lo implementado por: https://github.com/DiegoVicen/som-tsp\n",
    "ciudades_df = pd.read_csv(\n",
    "            data_path,\n",
    "            skiprows=node_coord_start + 1,\n",
    "            sep=' ',\n",
    "            names=['city', 'lat', 'lon'],\n",
    "            dtype={'city': str, 'lat': np.float64, 'lon': np.float64},\n",
    "            header=None,\n",
    "            nrows=dimension)\n",
    "\n",
    "# limpiar latitud y longitud (decimales)\n",
    "ciudades_df['lat'] = ciudades_df['lat'].div(1000)\n",
    "ciudades_df['lon'] = ciudades_df['lon'].div(1000)"
   ]
  },
  {
   "cell_type": "code",
   "execution_count": 35,
   "metadata": {
    "tags": [
     "block:sample_cities",
     "prev:clean_data"
    ]
   },
   "outputs": [],
   "source": [
    "sample_df = ciudades_df.sample(n_cities, random_state=seed)"
   ]
  },
  {
   "cell_type": "code",
   "execution_count": 36,
   "metadata": {
    "tags": [
     "block:calc_distances",
     "prev:sample_cities"
    ]
   },
   "outputs": [],
   "source": [
    "## Calcular distancias en KMS\n",
    "array_coord = sample_df[['lat','lon']].to_numpy()\n",
    "d_mat = distance_matrix(array_coord, array_coord)*6373"
   ]
  },
  {
   "cell_type": "code",
   "execution_count": 37,
   "metadata": {
    "tags": [
     "block:create_graph",
     "prev:calc_distances"
    ]
   },
   "outputs": [],
   "source": [
    "G = nx.from_numpy_matrix(d_mat) "
   ]
  },
  {
   "cell_type": "code",
   "execution_count": null,
   "metadata": {
    "tags": [
     "skip"
    ]
   },
   "outputs": [],
   "source": [
    "# graficar el graph\n",
    "ac.plot_graph(G, m_plot='graph')"
   ]
  },
  {
   "cell_type": "code",
   "execution_count": null,
   "metadata": {
    "tags": [
     "block:optim_hp",
     "prev:create_graph"
    ]
   },
   "outputs": [],
   "source": [
    "study = ac.optim_h_params(G,\n",
    "                          init_node = init_node_ex,\n",
    "                          trials = hp_trials, \n",
    "                          save = save_hp)"
   ]
  },
  {
   "cell_type": "code",
   "execution_count": null,
   "metadata": {
    "tags": [
     "block:load_bst_hp",
     "prev:optim_hp"
    ]
   },
   "outputs": [],
   "source": [
    "best_params = ac.load_params('best_hiper_params.db')"
   ]
  },
  {
   "cell_type": "code",
   "execution_count": 12,
   "metadata": {
    "tags": [
     "block:inst_colony",
     "prev:load_bst_hp"
    ]
   },
   "outputs": [],
   "source": [
    "colony_ = ac.colony(G, init_node_ex, **best_params)"
   ]
  },
  {
   "cell_type": "code",
   "execution_count": 13,
   "metadata": {
    "tags": [
     "block:solve_tsp",
     "prev:inst_colony"
    ]
   },
   "outputs": [],
   "source": [
    "colony_.solve_tsp()"
   ]
  },
  {
   "cell_type": "code",
   "execution_count": null,
   "metadata": {
    "tags": [
     "block:plt_sln",
     "prev:solve_tsp"
    ]
   },
   "outputs": [],
   "source": [
    "colony_.plot_route(plt_size=(40, 40))"
   ]
  },
  {
   "cell_type": "code",
   "execution_count": 15,
   "metadata": {
    "tags": [
     "block:get_sln_path",
     "prev:solve_tsp"
    ]
   },
   "outputs": [],
   "source": [
    "sln_r = colony_.best_route"
   ]
  },
  {
   "cell_type": "code",
   "execution_count": 16,
   "metadata": {
    "tags": [
     "block:get_sln_dist",
     "prev:solve_tsp"
    ]
   },
   "outputs": [],
   "source": [
    "sln_d = colony_.best_dist"
   ]
  },
  {
   "cell_type": "code",
   "execution_count": 24,
   "metadata": {
    "tags": [
     "block:merge_sln",
     "prev:get_sln_path",
     "prev:get_sln_dist"
    ]
   },
   "outputs": [],
   "source": [
    "sln_dic = {'route': sln_r, 'distance': float(sln_d)}"
   ]
  },
  {
   "cell_type": "code",
   "execution_count": 21,
   "metadata": {
    "tags": [
     "block:save_sln_disk",
     "prev:merge_sln"
    ]
   },
   "outputs": [],
   "source": [
    "with open(\"aco_sln.json\", \"w\") as outfile: \n",
    "    json.dump(sln_dic, outfile)\n",
    "outfile.close()"
   ]
  }
 ],
 "metadata": {
  "kernelspec": {
   "display_name": "Python 3",
   "language": "python",
   "name": "python3"
  },
  "kubeflow_notebook": {
   "autosnapshot": false,
   "docker_image": "santibatte/ant_colony_jupyter:0.1",
   "experiment": {
    "id": "new",
    "name": "china-30"
   },
   "experiment_name": "china-30",
   "katib_metadata": {
    "algorithm": {
     "algorithmName": "grid"
    },
    "maxFailedTrialCount": 3,
    "maxTrialCount": 12,
    "objective": {
     "objectiveMetricName": "",
     "type": "minimize"
    },
    "parallelTrialCount": 3,
    "parameters": []
   },
   "katib_run": false,
   "pipeline_description": "Resuelve TSP para N ciudades de China",
   "pipeline_name": "ejemplo-china-sample",
   "snapshot_volumes": false,
   "steps_defaults": [],
   "volume_access_mode": "rom",
   "volumes": [
    {
     "annotations": [],
     "mount_point": "/shared_volume",
     "name": "hostpath-pvc",
     "size": 1,
     "size_type": "Gi",
     "snapshot": false,
     "snapshot_name": "",
     "type": "pvc"
    }
   ]
  },
  "language_info": {
   "codemirror_mode": {
    "name": "ipython",
    "version": 3
   },
   "file_extension": ".py",
   "mimetype": "text/x-python",
   "name": "python",
   "nbconvert_exporter": "python",
   "pygments_lexer": "ipython3",
   "version": "3.6.9"
  }
 },
 "nbformat": 4,
 "nbformat_minor": 5
}
