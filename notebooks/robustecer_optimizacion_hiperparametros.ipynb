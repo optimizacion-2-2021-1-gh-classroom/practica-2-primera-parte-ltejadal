{
 "cells": [
  {
   "cell_type": "code",
   "execution_count": 1,
   "id": "proud-olympus",
   "metadata": {},
   "outputs": [],
   "source": [
    "# instalar libreria\n",
    "#!pip install \"git+https://github.com/optimizacion-2-2021-1-gh-classroom/practica-1-segunda-parte-ltejadal.git#egg=ant-colony&subdirectory=src\" &> /dev/null"
   ]
  },
  {
   "cell_type": "markdown",
   "id": "decimal-coupon",
   "metadata": {},
   "source": [
    "# Optimización de Hiper-parámetros\n",
    "\n",
    "El algoritmo implementado incorpora los siguietnes hiperparámetros:\n",
    "\n",
    "- número de hormizas en la colonia\n",
    "- máximo de iteraciones\n",
    "- Importancia del nivel de atracción inicial\n",
    "- Importancia del nivel de las feromonas\n",
    "- Grado de evaporación de las feromonas\n",
    "\n",
    "Para robustecer la librería, se implementó la rutina `optim_h_params` que utiliza la librería [optuna](https://optuna.org/#code_examples), con el fin de utilizar técnicas de optimización bayesiana para buscar eficientemente los parámetros que maximizan una función objetivo en un \"hiper-espacio\".\n",
    "\n",
    "\n",
    "En este caso, queremos que el algoritmo encuentre la distancia de la ruta menor que recorre todos los nodos del grafo, y que a su vez sea lo más rápido posible. Para lo anterior, se propone minimizar la siguiente función objetivo:\n",
    "\n",
    "$$\n",
    "obj = time + dist^{2}\n",
    "$$\n",
    "\n",
    "Donde $time$ es el tiempo de ejecución en minutos, y $dist$ es la distancia de la ruta encontrada por el algoritmo. \n",
    "\n",
    "\n",
    "El propósito de este `notebook` es ejemplificar la utilización de esta rutina aplicado a la solucíon de un problema **TSP** con la base de datos de 17 ciudades localizada en el [repositorio](https://github.com/optimizacion-2-2021-1-gh-classroom/practica-2-primera-parte-ltejadal/tree/main/datasets) y cuya fuente original está [aquí](https://people.sc.fsu.edu/~jburkardt/datasets/tsp/tsp.html)."
   ]
  },
  {
   "cell_type": "code",
   "execution_count": 2,
   "id": "declared-worship",
   "metadata": {},
   "outputs": [],
   "source": [
    "import ant_colony"
   ]
  },
  {
   "cell_type": "code",
   "execution_count": 3,
   "id": "mounted-upgrade",
   "metadata": {},
   "outputs": [],
   "source": [
    "## ejemplo con base de datos de 17 ciudades\n",
    "path = '../datasets/gr17_d_city_distances.txt'\n",
    "G = ant_colony.read_data(path)"
   ]
  },
  {
   "cell_type": "markdown",
   "id": "running-scene",
   "metadata": {},
   "source": [
    "Para crear un estudio, utilizamos la función `optim_h_params`, que tiene como argumentos:\n",
    "\n",
    "- `G`: grafo sobre el que se optimizan las rutas\n",
    "- `init_node`: nodo inicial \n",
    "- `trials`: número de intentos\n",
    "- `save`: Si se desea guardar la información del estudio en el directorio actual en la base de datos `best_hiper_params.db`."
   ]
  },
  {
   "cell_type": "code",
   "execution_count": 4,
   "id": "optional-purple",
   "metadata": {},
   "outputs": [
    {
     "name": "stderr",
     "output_type": "stream",
     "text": [
      "\u001b[32m[I 2021-04-25 23:29:42,914]\u001b[0m A new study created in RDB with name: optimize_aco\u001b[0m\n",
      "\u001b[32m[I 2021-04-25 23:29:43,030]\u001b[0m Trial 0 finished with value: 21911761.000339698 and parameters: {'n_ants': 6, 'max_iter': 10, 'rho': 0.7512524630927325, 'alpha': 5, 'beta': 4}. Best is trial 0 with value: 21911761.000339698.\u001b[0m\n",
      "\u001b[32m[I 2021-04-25 23:29:43,079]\u001b[0m Trial 1 finished with value: 22014864.00001452 and parameters: {'n_ants': 2, 'max_iter': 1, 'rho': 0.47324806582921763, 'alpha': 4, 'beta': 3}. Best is trial 0 with value: 21911761.000339698.\u001b[0m\n",
      "\u001b[32m[I 2021-04-25 23:29:43,221]\u001b[0m Trial 2 finished with value: 21818241.001631293 and parameters: {'n_ants': 303, 'max_iter': 1, 'rho': 0.370975769403182, 'alpha': 0, 'beta': 4}. Best is trial 2 with value: 21818241.001631293.\u001b[0m\n",
      "\u001b[32m[I 2021-04-25 23:29:43,271]\u001b[0m Trial 3 finished with value: 21818241.000133336 and parameters: {'n_ants': 2, 'max_iter': 10, 'rho': 0.9244797694726458, 'alpha': 3, 'beta': 2}. Best is trial 3 with value: 21818241.000133336.\u001b[0m\n",
      "\u001b[32m[I 2021-04-25 23:29:43,335]\u001b[0m Trial 4 finished with value: 21911761.00035462 and parameters: {'n_ants': 6, 'max_iter': 10, 'rho': 0.5026480493115417, 'alpha': 5, 'beta': 1}. Best is trial 3 with value: 21818241.000133336.\u001b[0m\n",
      "\u001b[32m[I 2021-04-25 23:29:43,379]\u001b[0m Trial 5 finished with value: 22014864.000018917 and parameters: {'n_ants': 3, 'max_iter': 1, 'rho': 0.4658571842691026, 'alpha': 3, 'beta': 4}. Best is trial 3 with value: 21818241.000133336.\u001b[0m\n",
      "\u001b[32m[I 2021-04-25 23:29:43,431]\u001b[0m Trial 6 finished with value: 21818241.000143126 and parameters: {'n_ants': 24, 'max_iter': 1, 'rho': 0.2767502251523476, 'alpha': 3, 'beta': 4}. Best is trial 3 with value: 21818241.000133336.\u001b[0m\n",
      "\u001b[32m[I 2021-04-25 23:29:43,507]\u001b[0m Trial 7 finished with value: 21818241.000520326 and parameters: {'n_ants': 94, 'max_iter': 1, 'rho': 0.8481222940080395, 'alpha': 1, 'beta': 2}. Best is trial 3 with value: 21818241.000133336.\u001b[0m\n",
      "\u001b[32m[I 2021-04-25 23:29:43,564]\u001b[0m Trial 8 finished with value: 21911761.000180803 and parameters: {'n_ants': 30, 'max_iter': 1, 'rho': 0.16195657119532236, 'alpha': 3, 'beta': 1}. Best is trial 3 with value: 21818241.000133336.\u001b[0m\n",
      "\u001b[32m[I 2021-04-25 23:29:43,938]\u001b[0m Trial 9 finished with value: 21818241.005414896 and parameters: {'n_ants': 97, 'max_iter': 10, 'rho': 0.448676072552443, 'alpha': 5, 'beta': 3}. Best is trial 3 with value: 21818241.000133336.\u001b[0m\n"
     ]
    },
    {
     "name": "stdout",
     "output_type": "stream",
     "text": [
      "Hyper-parameters saved in ./best_hiper_params.db\n"
     ]
    }
   ],
   "source": [
    "init_node_ex = 0\n",
    "\n",
    "study = ant_colony.optim_h_params(G, \n",
    "                                  init_node = init_node_ex,\n",
    "                                  trials = 10, \n",
    "                                  save = True)"
   ]
  },
  {
   "cell_type": "markdown",
   "id": "tested-blast",
   "metadata": {},
   "source": [
    "Podemos extraer los mejores parámetros resultantes del estudio de la siguiente forma:"
   ]
  },
  {
   "cell_type": "code",
   "execution_count": 5,
   "id": "promotional-lightning",
   "metadata": {},
   "outputs": [
    {
     "data": {
      "text/plain": [
       "{'alpha': 3, 'beta': 2, 'max_iter': 10, 'n_ants': 2, 'rho': 0.9244797694726458}"
      ]
     },
     "execution_count": 5,
     "metadata": {},
     "output_type": "execute_result"
    }
   ],
   "source": [
    "params = study._params\n",
    "params"
   ]
  },
  {
   "cell_type": "markdown",
   "id": "vital-interview",
   "metadata": {},
   "source": [
    "Si elegimos la opción de guardar el estudio de optimización, podemos cargar los parámetros de la siguiente forma:"
   ]
  },
  {
   "cell_type": "code",
   "execution_count": 6,
   "id": "banner-central",
   "metadata": {},
   "outputs": [
    {
     "data": {
      "text/plain": [
       "{'alpha': 3, 'beta': 2, 'max_iter': 10, 'n_ants': 2, 'rho': 0.9244797694726458}"
      ]
     },
     "execution_count": 6,
     "metadata": {},
     "output_type": "execute_result"
    }
   ],
   "source": [
    "ld_params = ant_colony.load_params('best_hiper_params.db')\n",
    "ld_params"
   ]
  },
  {
   "cell_type": "markdown",
   "id": "straight-chart",
   "metadata": {},
   "source": [
    "Finalmente, podemos crear una nueva \"colonia\" con los mejores hiper-parámetros encontrados en el estudio:"
   ]
  },
  {
   "cell_type": "code",
   "execution_count": 7,
   "id": "excessive-needle",
   "metadata": {},
   "outputs": [],
   "source": [
    "colony_ = ant_colony.colony(G, init_node_ex, **params)"
   ]
  }
 ],
 "metadata": {
  "kernelspec": {
   "display_name": "Python 3",
   "language": "python",
   "name": "python3"
  },
  "language_info": {
   "codemirror_mode": {
    "name": "ipython",
    "version": 3
   },
   "file_extension": ".py",
   "mimetype": "text/x-python",
   "name": "python",
   "nbconvert_exporter": "python",
   "pygments_lexer": "ipython3",
   "version": "3.7.10"
  }
 },
 "nbformat": 4,
 "nbformat_minor": 5
}
