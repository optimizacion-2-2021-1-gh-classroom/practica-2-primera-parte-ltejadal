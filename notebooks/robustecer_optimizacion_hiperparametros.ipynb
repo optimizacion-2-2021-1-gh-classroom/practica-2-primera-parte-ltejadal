{
 "cells": [
  {
   "cell_type": "code",
   "execution_count": 1,
   "id": "proud-olympus",
   "metadata": {},
   "outputs": [],
   "source": [
    "# instalar libreria\n",
    "#!pip install \"git+https://github.com/optimizacion-2-2021-1-gh-classroom/practica-1-segunda-parte-ltejadal.git#egg=ant-colony&subdirectory=src\" &> /dev/null"
   ]
  },
  {
   "cell_type": "markdown",
   "id": "decimal-coupon",
   "metadata": {},
   "source": [
    "# Optimización de Hiper-parámetros\n",
    "\n",
    "El algoritmo implementado incorpora los siguietnes hiperparámetros:\n",
    "\n",
    "- número de hormizas en la colonia\n",
    "- máximo de iteraciones\n",
    "- Importancia del nivel de atracción inicial\n",
    "- Importancia del nivel de las feromonas\n",
    "- Grado de evaporación de las feromonas\n",
    "\n",
    "Para robustecer la librería, se implementó la rutina `optim_h_params` que utiliza a ́la librería [optuna](https://optuna.org/#code_examples), con el fin de utilizar técnicas de optimización bayesiana para buscar eficientemente los parámetros que maximizan una función objetivo en un \"hiper-espacio\".\n",
    "\n",
    "\n",
    "En este caso, queremos que el algoritmo encuentre la distancia de la ruta menor que recorre todos los nodos del grafo, y que a su vez sea lo más rápido posible. Para lo anterior, se propone la siguiente función objetivo:\n",
    "\n",
    "$$\n",
    "obj = time + dist^{2}\n",
    "$$\n",
    "\n",
    "Donde $time$ es el tiempo de ejecución en minutos, y $dist$ es la distancia de la ruta encontrada por el algoritmo. \n",
    "\n",
    "\n",
    "El propósito de este `notebook` es ejemplificar la utilización de esta rutina aplicado a la solucíon de un problema **TSP** con la base de datos de 17 ciudades localizada en el [repositorio](https://github.com/optimizacion-2-2021-1-gh-classroom/practica-2-primera-parte-ltejadal/tree/main/datasets) y cuya fuente original está [aquí](https://people.sc.fsu.edu/~jburkardt/datasets/tsp/tsp.html)."
   ]
  },
  {
   "cell_type": "code",
   "execution_count": 1,
   "id": "declared-worship",
   "metadata": {},
   "outputs": [],
   "source": [
    "import ant_colony"
   ]
  },
  {
   "cell_type": "code",
   "execution_count": 5,
   "id": "mounted-upgrade",
   "metadata": {},
   "outputs": [],
   "source": [
    "## ejemplo con base de datos de 17 ciudades\n",
    "path = '../datasets/gr17_d_city_distances.txt'\n",
    "G = ant_colony.read_data(path)"
   ]
  },
  {
   "cell_type": "markdown",
   "id": "running-scene",
   "metadata": {},
   "source": [
    "Para crear un estudio, utilizamos la función `optim_h_params`, que tiene como argumentos:\n",
    "\n",
    "- `G`: grafo sobre el que se optimizan las rutas\n",
    "- `init_node`: nodo inicial \n",
    "- `trials`: número de intentos\n",
    "- `save`: Si se desea guardar la información del estudio en el directorio actual en la base de datos `best_hiper_params.db`."
   ]
  },
  {
   "cell_type": "code",
   "execution_count": 10,
   "id": "optional-purple",
   "metadata": {},
   "outputs": [
    {
     "name": "stderr",
     "output_type": "stream",
     "text": [
      "\u001b[32m[I 2021-04-25 17:23:22,536]\u001b[0m Using an existing study with name 'optimize_aco' instead of creating a new one.\u001b[0m\n",
      "\u001b[32m[I 2021-04-25 17:23:22,615]\u001b[0m Trial 20 finished with value: 21818241.000055887 and parameters: {'n_ants': 10, 'max_iter': 1, 'rho': 0.3623194227783704, 'alpha': 4, 'beta': 2}. Best is trial 14 with value: 21818241.00004589.\u001b[0m\n",
      "\u001b[32m[I 2021-04-25 17:23:22,675]\u001b[0m Trial 21 finished with value: 21818241.0000702 and parameters: {'n_ants': 11, 'max_iter': 1, 'rho': 0.37482750719313873, 'alpha': 4, 'beta': 2}. Best is trial 14 with value: 21818241.00004589.\u001b[0m\n",
      "\u001b[32m[I 2021-04-25 17:23:22,732]\u001b[0m Trial 22 finished with value: 22572001.000024986 and parameters: {'n_ants': 4, 'max_iter': 1, 'rho': 0.6139491746485577, 'alpha': 4, 'beta': 2}. Best is trial 14 with value: 21818241.00004589.\u001b[0m\n",
      "\u001b[32m[I 2021-04-25 17:23:22,791]\u001b[0m Trial 23 finished with value: 21911761.000075575 and parameters: {'n_ants': 13, 'max_iter': 1, 'rho': 0.3703827252819907, 'alpha': 5, 'beta': 3}. Best is trial 14 with value: 21818241.00004589.\u001b[0m\n",
      "\u001b[32m[I 2021-04-25 17:23:22,859]\u001b[0m Trial 24 finished with value: 21818241.000198223 and parameters: {'n_ants': 37, 'max_iter': 1, 'rho': 0.7125430751091617, 'alpha': 3, 'beta': 1}. Best is trial 14 with value: 21818241.00004589.\u001b[0m\n",
      "\u001b[32m[I 2021-04-25 17:23:22,916]\u001b[0m Trial 25 finished with value: 22297284.000039343 and parameters: {'n_ants': 7, 'max_iter': 1, 'rho': 0.5701980294140367, 'alpha': 4, 'beta': 2}. Best is trial 14 with value: 21818241.00004589.\u001b[0m\n",
      "\u001b[32m[I 2021-04-25 17:23:22,972]\u001b[0m Trial 26 finished with value: 21818241.000014123 and parameters: {'n_ants': 2, 'max_iter': 1, 'rho': 0.37949314714943644, 'alpha': 3, 'beta': 3}. Best is trial 26 with value: 21818241.000014123.\u001b[0m\n",
      "\u001b[32m[I 2021-04-25 17:23:23,028]\u001b[0m Trial 27 finished with value: 22420225.000014763 and parameters: {'n_ants': 2, 'max_iter': 1, 'rho': 0.3867297237498946, 'alpha': 2, 'beta': 3}. Best is trial 26 with value: 21818241.000014123.\u001b[0m\n",
      "\u001b[32m[I 2021-04-25 17:23:23,087]\u001b[0m Trial 28 finished with value: 24255625.00001396 and parameters: {'n_ants': 2, 'max_iter': 1, 'rho': 0.11911969265804462, 'alpha': 3, 'beta': 4}. Best is trial 26 with value: 21818241.000014123.\u001b[0m\n",
      "\u001b[32m[I 2021-04-25 17:23:23,156]\u001b[0m Trial 29 finished with value: 21911761.000239454 and parameters: {'n_ants': 4, 'max_iter': 10, 'rho': 0.2915411625006878, 'alpha': 1, 'beta': 3}. Best is trial 26 with value: 21818241.000014123.\u001b[0m\n"
     ]
    },
    {
     "name": "stdout",
     "output_type": "stream",
     "text": [
      "Hyper-parameters saved in ./best_hiper_params.db\n"
     ]
    }
   ],
   "source": [
    "init_node_ex = 0\n",
    "\n",
    "study = ant_colony.optim_h_params(G, \n",
    "                                  init_node = init_node_ex,\n",
    "                                  trials = 10, \n",
    "                                  save = True)"
   ]
  },
  {
   "cell_type": "markdown",
   "id": "tested-blast",
   "metadata": {},
   "source": [
    "Podemos extraer los mejores parámetros resultantes del estudio de la siguiente forma:"
   ]
  },
  {
   "cell_type": "code",
   "execution_count": 11,
   "id": "promotional-lightning",
   "metadata": {},
   "outputs": [
    {
     "data": {
      "text/plain": [
       "{'alpha': 3, 'beta': 3, 'max_iter': 1, 'n_ants': 2, 'rho': 0.37949314714943644}"
      ]
     },
     "execution_count": 11,
     "metadata": {},
     "output_type": "execute_result"
    }
   ],
   "source": [
    "params = study._params\n",
    "params"
   ]
  },
  {
   "cell_type": "markdown",
   "id": "vital-interview",
   "metadata": {},
   "source": [
    "Si elegimos la opción de guardar el estudio de optimización, podemos cargar los parámetros de la siguiente forma:"
   ]
  },
  {
   "cell_type": "code",
   "execution_count": 12,
   "id": "banner-central",
   "metadata": {},
   "outputs": [
    {
     "data": {
      "text/plain": [
       "{'alpha': 3, 'beta': 3, 'max_iter': 1, 'n_ants': 2, 'rho': 0.37949314714943644}"
      ]
     },
     "execution_count": 12,
     "metadata": {},
     "output_type": "execute_result"
    }
   ],
   "source": [
    "ld_params = ant_colony.load_params('best_hiper_params.db')\n",
    "ld_params"
   ]
  },
  {
   "cell_type": "markdown",
   "id": "straight-chart",
   "metadata": {},
   "source": [
    "Finalmente, podemos crear una nueva \"colonia\" con los mejores hiper-parámetros encontrados en el estudio:"
   ]
  },
  {
   "cell_type": "code",
   "execution_count": 13,
   "id": "excessive-needle",
   "metadata": {},
   "outputs": [],
   "source": [
    "colony_ = ant_colony.colony(G, init_node_ex, **params)"
   ]
  }
 ],
 "metadata": {
  "kernelspec": {
   "display_name": "Python 3",
   "language": "python",
   "name": "python3"
  },
  "language_info": {
   "codemirror_mode": {
    "name": "ipython",
    "version": 3
   },
   "file_extension": ".py",
   "mimetype": "text/x-python",
   "name": "python",
   "nbconvert_exporter": "python",
   "pygments_lexer": "ipython3",
   "version": "3.7.10"
  }
 },
 "nbformat": 4,
 "nbformat_minor": 5
}
